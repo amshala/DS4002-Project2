{
 "cells": [
  {
   "cell_type": "code",
   "execution_count": 1,
   "id": "b3f6c42a",
   "metadata": {},
   "outputs": [],
   "source": [
    "# Import statements\n",
    "import numpy as np\n",
    "import pandas as pd\n",
    "import matplotlib.pyplot as plt\n",
    "import shutil\n",
    "import os\n",
    "from keras.preprocessing.image import ImageDataGenerator\n",
    "from keras import layers\n",
    "from keras import models\n",
    "import matplotlib.pyplot as plt\n",
    "import matplotlib.image as mpimg\n",
    "#import matplotlib.pylost"
   ]
  },
  {
   "cell_type": "code",
   "execution_count": 2,
   "id": "cc28a59b",
   "metadata": {},
   "outputs": [],
   "source": [
    "\n",
    "'''\n",
    "The data is downloaded to the project folder this\n",
    "notebook belongs to. From this project folder we can \n",
    "access the data by simply changing the directory to \n",
    "'cell_images/'\n",
    "\n",
    "The code to organize directories was found in:\n",
    "https://medium.com/gradientcrescent/building-a-malaria-classifier-with-keras-background-implementation-d55c32773afa\n",
    "''' \n",
    "base_dir = 'cell_images/' \n",
    "\n",
    "# Our working directory is where we will copy the data\n",
    "# into so we can manipulate it without messing up the original data\n",
    "work_dir = \"work/\" #path way to working directory\n",
    "os.mkdir(work_dir) # Make the working directory\n",
    "\n",
    "parasitized = 'cell_images/Parasitized/' # pathway to infected cell images\n",
    "uninfected = 'cell_images/Uninfected/' # pathway to uninfected cell images\n",
    "\n",
    "work_dir_parasitized = \"work/parasitized/\" # where we will store our copy of the parasitized data\n",
    "os.mkdir(work_dir_parasitized) # Creation of parasitized folder in working directory\n",
    "work_dir_uninfected = 'work/uninfected/' # where we will store our copy of the uninfected data\n",
    "os.mkdir(work_dir_uninfected) # Creation of uninfected folder in working directory\n",
    "\n",
    "# Create folder in our working directory to store our training data\n",
    "train_dir = os.path.join(work_dir,'train')\n",
    "os.mkdir(train_dir)\n",
    "\n",
    "# Create folder in our working directory to store our validation data\n",
    "validation_dir=os.path.join(work_dir, 'validation')\n",
    "os.mkdir(validation_dir)\n",
    "\n",
    "# Create folder in our working directory to store our testing data\n",
    "test_dir = os.path.join(work_dir, 'test')\n",
    "os.mkdir(test_dir)\n",
    "\n",
    "# Create folders for the output of model infected, and uninfected for each set\n",
    "train_pos_dir = os.path.join(train_dir, 'positive')\n",
    "os.mkdir(train_pos_dir)\n",
    "train_neg_dir = os.path.join(train_dir, 'negative')\n",
    "os.mkdir(train_neg_dir)\n",
    "\n",
    "validation_pos_dir = os.path.join(validation_dir, 'positive')\n",
    "os.mkdir(validation_pos_dir)\n",
    "validation_neg_dir = os.path.join(validation_dir,'negative')\n",
    "os.mkdir(validation_neg_dir)\n",
    "\n",
    "test_pos_dir = os.path.join(test_dir,'positive')\n",
    "os.mkdir(test_pos_dir)\n",
    "test_neg_dir = os.path.join(test_dir, 'negative')\n",
    "os.mkdir(test_neg_dir)"
   ]
  },
  {
   "cell_type": "code",
   "execution_count": 3,
   "id": "aa3580cd",
   "metadata": {},
   "outputs": [],
   "source": [
    "# Using the shutil package, copy the original data into our working directories\n",
    "# and rename the images to make them easy to call and\n",
    "# view.\n",
    "'''\n",
    "The code for how to copy over the data was found in:\n",
    "https://medium.com/gradientcrescent/building-a-malaria-classifier-with-keras-background-implementation-d55c32773afa\n",
    "'''\n",
    "i = 0\n",
    "for images in os.listdir(parasitized):\n",
    "    dst=\"malaria_pos\" + str(i) + \".jpg\"\n",
    "    src=parasitized + images\n",
    "    dst=work_dir_parasitized + dst\n",
    "    \n",
    "    shutil.copy(src,dst)\n",
    "    i = i + 1\n",
    "\n",
    "i = 0\n",
    "for images in os.listdir(uninfected):\n",
    "    dst=\"malaria_neg\" + str(i) + \".jpg\"\n",
    "    src=uninfected + images\n",
    "    dst=work_dir_uninfected + dst\n",
    "    \n",
    "    shutil.copy(src,dst)\n",
    "    i = i + 1  "
   ]
  },
  {
   "cell_type": "code",
   "execution_count": 4,
   "id": "9cf621fe",
   "metadata": {},
   "outputs": [
    {
     "name": "stdout",
     "output_type": "stream",
     "text": [
      "total training pos images: 8818\n",
      "total training malaria_neg images: 8818\n",
      "total validation pos images: 2200\n",
      "total validation malaria_neg images: 2200\n",
      "total test pos images: 2755\n",
      "total test malaria_neg images: 2755\n"
     ]
    }
   ],
   "source": [
    "# This section organizes the data into train, validation, and test sets\n",
    "# We know we have 27,558 images\n",
    "# 13779 belong to parasitized, 13779 belong to uninfected\n",
    "# We will split the training and test 80/20\n",
    "# from the training we will split 80/20 for training and validation\n",
    "# Training: 8818\n",
    "# Validation: 2204\n",
    "# Test: 2755\n",
    "fnames = ['malaria_pos{}.jpg'.format(i) for i in range(8818)]\n",
    "for fname in fnames:\n",
    "    src = os.path.join(work_dir_parasitized, fname)\n",
    "    dst = os.path.join(train_pos_dir,fname)\n",
    "    shutil.copyfile(src, dst)\n",
    "    \n",
    "fnames = ['malaria_pos{}.jpg'.format(i) for i in range (8818,11018)]\n",
    "\n",
    "for fname in fnames:\n",
    "    src = os.path.join(work_dir_parasitized, fname)\n",
    "    dst = os.path.join(validation_pos_dir,fname)\n",
    "    shutil.copyfile(src,dst)\n",
    "    \n",
    "fnames=['malaria_pos{}.jpg'.format(i) for i in range(11018,13773)]\n",
    "for fname in fnames:\n",
    "    src = os.path.join(work_dir_parasitized, fname)\n",
    "    dst = os.path.join(test_pos_dir,fname)\n",
    "    shutil.copyfile(src,dst)\n",
    "    \n",
    "fnames = ['malaria_neg{}.jpg'.format(i) for i in range(8818)]\n",
    "for fname in fnames:\n",
    "    src = os.path.join(work_dir_uninfected, fname)\n",
    "    dst = os.path.join(train_neg_dir,fname)\n",
    "    shutil.copyfile(src, dst)\n",
    "    \n",
    "fnames = ['malaria_neg{}.jpg'.format(i) for i in range (8818,11018)]\n",
    "\n",
    "for fname in fnames:\n",
    "    src = os.path.join(work_dir_uninfected, fname)\n",
    "    dst = os.path.join(validation_neg_dir,fname)\n",
    "    shutil.copyfile(src,dst)\n",
    "    \n",
    "fnames=['malaria_neg{}.jpg'.format(i) for i in range(11018,13773)]\n",
    "for fname in fnames:\n",
    "    src = os.path.join(work_dir_uninfected, fname)\n",
    "    dst = os.path.join(test_neg_dir,fname)\n",
    "    shutil.copyfile(src,dst)\n",
    "    \n",
    "    \n",
    "print('total training pos images:', len(os.listdir(train_pos_dir)))\n",
    "print('total training malaria_neg images:', len(os.listdir(train_neg_dir)))\n",
    "print('total validation pos images:',len(os.listdir(validation_pos_dir)))\n",
    "print('total validation malaria_neg images:', len(os.listdir(validation_neg_dir)))\n",
    "print('total test pos images:', len(os.listdir(test_pos_dir)))\n",
    "print('total test malaria_neg images:', len(os.listdir(test_neg_dir)))\n",
    "\n",
    "\n",
    "\n",
    "\n",
    "\n"
   ]
  },
  {
   "cell_type": "code",
   "execution_count": 15,
   "id": "35a054f7",
   "metadata": {},
   "outputs": [
    {
     "name": "stdout",
     "output_type": "stream",
     "text": [
      "Found 17636 images belonging to 2 classes.\n",
      "Found 4400 images belonging to 2 classes.\n",
      "Image preprocessing complete\n"
     ]
    }
   ],
   "source": [
    "# This section is for data preprocessing\n",
    "\n",
    "# This will normalize pixel intensities\n",
    "train_datagen = ImageDataGenerator(rescale=1./255)\n",
    "test_datagen = ImageDataGenerator(rescale=1./255)\n",
    "\n",
    "train_generator = train_datagen.flow_from_directory(\n",
    "    train_dir,\n",
    "    target_size=(150,150),\n",
    "    batch_size=20,\n",
    "    class_mode='binary')\n",
    "steps_per_epoch = len(train_generator)\n",
    "\n",
    "validation_generator = test_datagen.flow_from_directory(\n",
    "    validation_dir, target_size = (150,150),\n",
    "    batch_size=20,\n",
    "    class_mode='binary')\n",
    "\n",
    "print(\"Image preprocessing complete\")"
   ]
  },
  {
   "cell_type": "code",
   "execution_count": 16,
   "id": "1ee706db",
   "metadata": {},
   "outputs": [
    {
     "name": "stdout",
     "output_type": "stream",
     "text": [
      "Model: \"sequential_4\"\n",
      "_________________________________________________________________\n",
      " Layer (type)                Output Shape              Param #   \n",
      "=================================================================\n",
      " conv2d_16 (Conv2D)          (None, 148, 148, 32)      896       \n",
      "                                                                 \n",
      " max_pooling2d_16 (MaxPoolin  (None, 74, 74, 32)       0         \n",
      " g2D)                                                            \n",
      "                                                                 \n",
      " conv2d_17 (Conv2D)          (None, 72, 72, 64)        18496     \n",
      "                                                                 \n",
      " max_pooling2d_17 (MaxPoolin  (None, 36, 36, 64)       0         \n",
      " g2D)                                                            \n",
      "                                                                 \n",
      " conv2d_18 (Conv2D)          (None, 34, 34, 128)       73856     \n",
      "                                                                 \n",
      " max_pooling2d_18 (MaxPoolin  (None, 17, 17, 128)      0         \n",
      " g2D)                                                            \n",
      "                                                                 \n",
      " conv2d_19 (Conv2D)          (None, 15, 15, 128)       147584    \n",
      "                                                                 \n",
      " max_pooling2d_19 (MaxPoolin  (None, 7, 7, 128)        0         \n",
      " g2D)                                                            \n",
      "                                                                 \n",
      " flatten_4 (Flatten)         (None, 6272)              0         \n",
      "                                                                 \n",
      " dropout_4 (Dropout)         (None, 6272)              0         \n",
      "                                                                 \n",
      " dense_8 (Dense)             (None, 512)               3211776   \n",
      "                                                                 \n",
      " dense_9 (Dense)             (None, 1)                 513       \n",
      "                                                                 \n",
      "=================================================================\n",
      "Total params: 3,453,121\n",
      "Trainable params: 3,453,121\n",
      "Non-trainable params: 0\n",
      "_________________________________________________________________\n",
      "Model created\n"
     ]
    }
   ],
   "source": [
    "# The convolution layer will separate the low and high level features by identifying\n",
    "# which pixel patterns are important\n",
    "# The pooling layer will select the max\n",
    "# output value of a convolution for the output activation\n",
    "# map. \n",
    "# then the reduced output from these two layers is 'flattened'\n",
    "\n",
    "model = models.Sequential()\n",
    "model.add(layers.Conv2D(32, (3,3), activation='relu', input_shape=(150,150,3)))\n",
    "model.add(layers.MaxPooling2D((2,2)))\n",
    "model.add(layers.Conv2D(64,(3,3), activation='relu'))\n",
    "model.add(layers.MaxPooling2D((2,2)))\n",
    "model.add(layers.Conv2D(128, (3, 3), activation='relu'))\n",
    "model.add(layers.MaxPooling2D((2, 2)))\n",
    "model.add(layers.Conv2D(128, (3, 3), activation='relu'))\n",
    "model.add(layers.MaxPooling2D((2, 2)))\n",
    "model.add(layers.Flatten())\n",
    "model.add(layers.Dropout(0.5))\n",
    "model.add(layers.Dense(512, activation='relu'))\n",
    "model.add(layers.Dense(1, activation='sigmoid'))\n",
    "model.summary()\n",
    "\n",
    "from keras import optimizers\n",
    "from tensorflow.keras.optimizers import Adam\n",
    "# We will optimize using a learning rate: by specifiying a low learning rate we make sure the algorithm doesn't change quickly\n",
    "# and skip the optimal solution all together.\n",
    "learning_rate = 0.0001\n",
    "learning_opt = Adam(learning_rate)\n",
    "\n",
    "verbose = 1\n",
    "epochs = 10\n",
    "model.compile(loss='binary_crossentropy',\n",
    "optimizer=learning_opt,\n",
    "metrics=['acc'])\n",
    "\n",
    "print(\"Model created\")\n"
   ]
  },
  {
   "cell_type": "code",
   "execution_count": 17,
   "id": "44eb76fc",
   "metadata": {},
   "outputs": [
    {
     "name": "stderr",
     "output_type": "stream",
     "text": [
      "C:\\Users\\amsha\\AppData\\Local\\Temp\\ipykernel_42168\\2585948969.py:4: UserWarning: `Model.fit_generator` is deprecated and will be removed in a future version. Please use `Model.fit`, which supports generators.\n",
      "  history = model.fit_generator(\n"
     ]
    },
    {
     "name": "stdout",
     "output_type": "stream",
     "text": [
      "Epoch 1/10\n",
      "882/882 [==============================] - 1021s 1s/step - loss: 0.4103 - acc: 0.8018 - val_loss: 0.2742 - val_acc: 0.8807\n",
      "Epoch 2/10\n",
      "882/882 [==============================] - 1591s 2s/step - loss: 0.1698 - acc: 0.9428 - val_loss: 0.2218 - val_acc: 0.9234\n",
      "Epoch 3/10\n",
      "882/882 [==============================] - 1112s 1s/step - loss: 0.1504 - acc: 0.9526 - val_loss: 0.2191 - val_acc: 0.9289\n",
      "Epoch 4/10\n",
      "882/882 [==============================] - 836s 948ms/step - loss: 0.1384 - acc: 0.9566 - val_loss: 0.2120 - val_acc: 0.9239\n",
      "Epoch 5/10\n",
      "882/882 [==============================] - 833s 945ms/step - loss: 0.1286 - acc: 0.9586 - val_loss: 0.2523 - val_acc: 0.9075\n",
      "Epoch 6/10\n",
      "882/882 [==============================] - 1317s 1s/step - loss: 0.1196 - acc: 0.9624 - val_loss: 0.2018 - val_acc: 0.9284\n",
      "Epoch 7/10\n",
      "882/882 [==============================] - 1049s 1s/step - loss: 0.1133 - acc: 0.9622 - val_loss: 0.2152 - val_acc: 0.9280\n",
      "Epoch 8/10\n",
      "882/882 [==============================] - 794s 900ms/step - loss: 0.1063 - acc: 0.9647 - val_loss: 0.1979 - val_acc: 0.9357\n",
      "Epoch 9/10\n",
      "882/882 [==============================] - 423s 480ms/step - loss: 0.1028 - acc: 0.9663 - val_loss: 0.2186 - val_acc: 0.9157\n",
      "Epoch 10/10\n",
      "882/882 [==============================] - 347s 393ms/step - loss: 0.0972 - acc: 0.9668 - val_loss: 0.2108 - val_acc: 0.9284\n"
     ]
    }
   ],
   "source": [
    "# This is the chunk that takes forever to run, more than an hour. Try adding workers!\n",
    "validation_steps = len(validation_generator)\n",
    "\n",
    "# Start training our model\n",
    "history = model.fit_generator(\n",
    "    train_generator,\n",
    "    steps_per_epoch=steps_per_epoch,\n",
    "    epochs = epochs,\n",
    "    validation_data = validation_generator,\n",
    "    validation_steps=validation_steps)\n",
    "model.save('basic_malaria_pos_neg_v1.h5')\n",
    "\n",
    "\n"
   ]
  },
  {
   "cell_type": "code",
   "execution_count": 23,
   "id": "75f7bcc1",
   "metadata": {
    "scrolled": true
   },
   "outputs": [
    {
     "name": "stderr",
     "output_type": "stream",
     "text": [
      "C:\\Users\\amsha\\AppData\\Local\\Temp\\ipykernel_42168\\3802659865.py:7: UserWarning: color is redundantly defined by the 'color' keyword argument and the fmt string \"bo\" (-> color='b'). The keyword argument will take precedence.\n",
      "  plt.plot(epochs, acc, 'bo', label='Training acc', color='black')\n",
      "C:\\Users\\amsha\\AppData\\Local\\Temp\\ipykernel_42168\\3802659865.py:15: UserWarning: color is redundantly defined by the 'color' keyword argument and the fmt string \"bo\" (-> color='b'). The keyword argument will take precedence.\n",
      "  plt.plot(epochs, loss, 'bo',label='Training loss', color = 'black')\n"
     ]
    },
    {
     "data": {
      "image/png": "[encoded data removed]",
      "text/plain": [
       "<Figure size 640x480 with 1 Axes>"
      ]
     },
     "metadata": {},
     "output_type": "display_data"
    },
    {
     "data": {
      "image/png": "[encoded data removed]",
      "text/plain": [
       "<Figure size 640x480 with 1 Axes>"
      ]
     },
     "metadata": {},
     "output_type": "display_data"
    }
   ],
   "source": [
    "acc = history.history['acc']\n",
    "val_acc = history.history['val_acc']\n",
    "loss = history.history['loss']\n",
    "val_loss = history.history['val_loss']\n",
    "\n",
    "epochs = range(1, len(acc) + 1)\n",
    "plt.plot(epochs, acc, 'bo', label='Training acc', color='black')\n",
    "plt.plot(epochs, val_acc, 'b', label='Validation acc')\n",
    "\n",
    "# Plot our accuracies and losses\n",
    "plt.title(\"Training and Validation Accuracy\")\n",
    "plt.xlabel(\"Epochs\")\n",
    "plt.ylabel(\"Accuracy\")\n",
    "plt.legend()\n",
    "plt.figure()\n",
    "plt.plot(epochs, loss, 'bo',label='Training loss', color = 'black')\n",
    "plt.plot(epochs, val_loss, 'b', label='Validation loss')\n",
    "plt.title('Training and validation loss')\n",
    "plt.xlabel(\"Epochs\")\n",
    "plt.ylabel(\"Loss\")\n",
    "plt.legend()\n",
    "plt.show()"
   ]
  }
 ],
 "metadata": {
  "kernelspec": {
   "display_name": "Python 3 (ipykernel)",
   "language": "python",
   "name": "python3"
  },
  "language_info": {
   "codemirror_mode": {
    "name": "ipython",
    "version": 3
   },
   "file_extension": ".py",
   "mimetype": "text/x-python",
   "name": "python",
   "nbconvert_exporter": "python",
   "pygments_lexer": "ipython3",
   "version": "3.9.6"
  }
 },
 "nbformat": 4,
 "nbformat_minor": 5
}
